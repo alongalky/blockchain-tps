{
 "cells": [
  {
   "cell_type": "code",
   "execution_count": 3,
   "metadata": {},
   "outputs": [],
   "source": [
    "import numpy as np\n",
    "\n",
    "def run_longest_chain_sim(propagation_time, time_between_blocks, N):\n",
    "    def chain_length(connections, block_index):\n",
    "        length = 0\n",
    "        parent_block = block_index\n",
    "        while parent_block != 0:\n",
    "            parent_block = connections[parent_block]\n",
    "            length = length + 1\n",
    "\n",
    "        return length\n",
    "\n",
    "    def get_tails(connections):\n",
    "        return [i for i in range(N) if i not in connections]\n",
    "\n",
    "    def get_longest_chain_tail(connections, block_times, current_block_time):\n",
    "        max_visible_time = current_block_time - propagation_time\n",
    "\n",
    "        tails = get_tails(connections)\n",
    "        visible_tails = [i for i in tails if block_times[i] < max_visible_time]\n",
    "\n",
    "        # If there are no visible tails, approve the genesis\n",
    "        if len(visible_tails) == 0:\n",
    "            return 0\n",
    "\n",
    "        chain_lengths = [chain_length(connections, i) for i in visible_tails]\n",
    "        return visible_tails[np.argmax(chain_lengths)]\n",
    "\n",
    "    def get_longest_chain_length(connections, block_times):\n",
    "        return chain_length(connections, get_longest_chain_tail(connections, block_times, np.inf))\n",
    "    \n",
    "\n",
    "    total_time = N * time_between_blocks\n",
    "    block_times = np.sort(np.random.uniform(0, total_time, N))\n",
    "\n",
    "    connections = [0]\n",
    "    for block_index in range(1,N):\n",
    "        current_block_time = block_times[block_index]\n",
    "        connections.append(get_longest_chain_tail(connections, block_times, current_block_time))\n",
    "\n",
    "    longest_chain_length = get_longest_chain_length(connections, block_times)\n",
    "    return longest_chain_length\n"
   ]
  },
  {
   "cell_type": "code",
   "execution_count": 10,
   "metadata": {},
   "outputs": [
    {
     "data": {
      "image/png": "[encoded data removed]",
      "text/plain": [
       "<Figure size 432x288 with 2 Axes>"
      ]
     },
     "metadata": {},
     "output_type": "display_data"
    }
   ],
   "source": [
    "from matplotlib import pyplot as plt\n",
    "import numpy as np\n",
    "\n",
    "propagation_time = 60\n",
    "N = 200\n",
    "sim_count = 30\n",
    "\n",
    "time_between_blocks_values = np.linspace(1, 600, num=sim_count)\n",
    "\n",
    "longest_chains = []\n",
    "for time_between_blocks in time_between_blocks_values:\n",
    "    longest_chain = run_longest_chain_sim(propagation_time, time_between_blocks, N)\n",
    "    longest_chains.append(longest_chain)\n",
    "\n",
    "fig, axs = plt.subplots(2,1)\n",
    "\n",
    "# Lost blocks plot\n",
    "lost_blocks_percent = 1.0 - np.divide(longest_chains, N)\n",
    "\n",
    "ax = axs[0]\n",
    "ax.plot(time_between_blocks_values, lost_blocks_percent)\n",
    "ax.set_xlabel('Time between blocks')\n",
    "ax.set_ylabel('Orphan rate')\n",
    "\n",
    "# TPS plot\n",
    "transactions_per_block = 2020\n",
    "total_sim_times = total_time = N * time_between_blocks_values\n",
    "TPS = transactions_per_block * np.divide(longest_chains, total_sim_times)\n",
    "\n",
    "ax = axs[1]\n",
    "ax.plot(time_between_blocks_values, TPS)\n",
    "ax.set_xlabel('Time between blocks')\n",
    "ax.set_ylabel('TPS')\n",
    "\n",
    "plt.show()   \n",
    "    "
   ]
  }
 ],
 "metadata": {
  "kernelspec": {
   "display_name": "Python 3",
   "language": "python",
   "name": "python3"
  },
  "language_info": {
   "codemirror_mode": {
    "name": "ipython",
    "version": 3
   },
   "file_extension": ".py",
   "mimetype": "text/x-python",
   "name": "python",
   "nbconvert_exporter": "python",
   "pygments_lexer": "ipython3",
   "version": "3.6.5"
  }
 },
 "nbformat": 4,
 "nbformat_minor": 2
}
